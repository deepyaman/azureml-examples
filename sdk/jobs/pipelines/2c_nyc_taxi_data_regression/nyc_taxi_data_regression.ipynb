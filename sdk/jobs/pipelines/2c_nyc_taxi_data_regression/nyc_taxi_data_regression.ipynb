{
 "cells": [
  {
   "cell_type": "markdown",
   "metadata": {},
   "source": [
    "# NYC taxi data regression\n",
    "\n",
    "**Requirements** - In order to benefit from this tutorial, you will need:\n",
    "- A basic understanding of Machine Learning\n",
    "- An Azure account with an active subscription - [Create an account for free](https://azure.microsoft.com/free/?WT.mc_id=A261C142F)\n",
    "- An Azure ML workspace with computer cluster - [Configure workspace](../../configuration.ipynb)\n",
    "- A python environment\n",
    "- Installed Azure Machine Learning Python SDK v2 - [install instructions](../../../README.md) - check the getting started section\n",
    "\n",
    "**Learning Objectives** - By the end of this tutorial, you should be able to:\n",
    "- Connect to your AML workspace from the Python SDK\n",
    "- Define different `CommandComponent` using YAML\n",
    "- Create `Pipeline` load these components from YAML\n",
    "\n",
    "**Motivations** - This notebook explains how to load component via SDK then use these components to build pipeline. We use NYC dataset, build pipeline with five steps, prep data, transform data, train model, predict results and evaluate model performance."
   ]
  },
  {
   "cell_type": "markdown",
   "metadata": {},
   "source": [
    "# 1. Connect to Azure Machine Learning Workspace\n",
    "\n",
    "The [workspace](https://docs.microsoft.com/en-us/azure/machine-learning/concept-workspace) is the top-level resource for Azure Machine Learning, providing a centralized place to work with all the artifacts you create when you use Azure Machine Learning. In this section we will connect to the workspace in which the job will be run.\n",
    "\n",
    "## 1.1 Import the required libraries"
   ]
  },
  {
   "cell_type": "code",
   "execution_count": 1,
   "metadata": {},
   "outputs": [],
   "source": [
    "# import required libraries\n",
    "from azure.identity import DefaultAzureCredential, InteractiveBrowserCredential\n",
    "\n",
    "from azure.ai.ml import MLClient, Input\n",
    "from azure.ai.ml.dsl import pipeline\n",
    "from azure.ai.ml import load_component"
   ]
  },
  {
   "cell_type": "markdown",
   "metadata": {},
   "source": [
    "## 1.2 Configure credential\n",
    "\n",
    "We are using `DefaultAzureCredential` to get access to workspace. \n",
    "`DefaultAzureCredential` should be capable of handling most Azure SDK authentication scenarios. \n",
    "\n",
    "Reference for more available credentials if it does not work for you: [configure credential example](../../configuration.ipynb), [azure-identity reference doc](https://docs.microsoft.com/en-us/python/api/azure-identity/azure.identity?view=azure-python)."
   ]
  },
  {
   "cell_type": "code",
   "execution_count": 2,
   "metadata": {},
   "outputs": [],
   "source": [
    "try:\n",
    "    credential = DefaultAzureCredential()\n",
    "    # Check if given credential can get token successfully.\n",
    "    credential.get_token(\"https://management.azure.com/.default\")\n",
    "except Exception as ex:\n",
    "    # Fall back to InteractiveBrowserCredential in case DefaultAzureCredential not work\n",
    "    credential = InteractiveBrowserCredential()"
   ]
  },
  {
   "cell_type": "markdown",
   "metadata": {},
   "source": [
    "## 1.3 Get a handle to the workspace\n",
    "\n",
    "We use config file to connect to a workspace. The Azure ML workspace should be configured with computer cluster. [Check this notebook for configure a workspace](../../configuration.ipynb)"
   ]
  },
  {
   "cell_type": "code",
   "execution_count": 3,
   "metadata": {},
   "outputs": [
    {
     "name": "stderr",
     "output_type": "stream",
     "text": [
      "Found the config file in: /Users/deepyaman_datta/.azureml/config.json\n"
     ]
    },
    {
     "name": "stdout",
     "output_type": "stream",
     "text": [
      "AmlCompute({'type': 'amlcompute', 'created_on': None, 'provisioning_state': 'Succeeded', 'provisioning_errors': None, 'name': 'cpu-cluster', 'description': None, 'tags': {}, 'properties': {}, 'id': '/subscriptions/3f15b3d0-4a6d-468b-aa61-c8a757b7745a/resourceGroups/quantumhack-aml/providers/Microsoft.MachineLearningServices/workspaces/quantumhack-ws/computes/cpu-cluster', 'base_path': './', 'creation_context': None, 'serialize': <msrest.serialization.Serializer object at 0x7fd6cb78dfa0>, 'resource_id': None, 'location': 'australiaeast', 'size': 'STANDARD_DS3_V2', 'min_instances': 0, 'max_instances': 10, 'idle_time_before_scale_down': 120.0, 'identity': None, 'ssh_public_access_enabled': True, 'ssh_settings': None, 'network_settings': <azure.ai.ml.entities._compute.compute.NetworkSettings object at 0x7fd6cb78dc10>, 'tier': 'dedicated'})\n"
     ]
    }
   ],
   "source": [
    "# Get a handle to workspace\n",
    "ml_client = MLClient.from_config(credential=credential)\n",
    "\n",
    "# Retrieve an already attached Azure Machine Learning Compute.\n",
    "cluster_name = \"cpu-cluster\"\n",
    "print(ml_client.compute.get(cluster_name))"
   ]
  },
  {
   "cell_type": "markdown",
   "metadata": {},
   "source": [
    "# 2. Build pipeline"
   ]
  },
  {
   "cell_type": "code",
   "execution_count": 4,
   "metadata": {},
   "outputs": [
    {
     "name": "stdout",
     "output_type": "stream",
     "text": [
      "Help on function prepare_data_component in module prep.prep_component:\n",
      "\n",
      "prepare_data_component(raw_green_data: <mldesigner._input_output.Input object at 0x7fd6cb7fff10>, raw_yellow_data: <mldesigner._input_output.Input object at 0x7fd6cb7ffe80>, prep_green_data: <mldesigner._input_output.Output object at 0x7fd6cb7ffdf0>, prep_yellow_data: <mldesigner._input_output.Output object at 0x7fd6cb9c6250>, merged_data: <mldesigner._input_output.Output object at 0x7fd6cb9c6670>)\n",
      "\n"
     ]
    }
   ],
   "source": [
    "%load_ext autoreload\n",
    "%autoreload 2\n",
    "\n",
    "# load component function from component python file\n",
    "from prep.prep_component import prepare_data_component\n",
    "\n",
    "# print hint of components\n",
    "help(prepare_data_component)"
   ]
  },
  {
   "cell_type": "code",
   "execution_count": 5,
   "metadata": {},
   "outputs": [],
   "source": [
    "parent_dir = \"\"\n",
    "\n",
    "# 1. Load components\n",
    "# prepare_data = load_component(path=parent_dir + \"./prep.yml\")\n",
    "transform_data = load_component(path=parent_dir + \"./transform.yml\")\n",
    "train_model = load_component(path=parent_dir + \"./train.yml\")\n",
    "predict_result = load_component(path=parent_dir + \"./predict.yml\")\n",
    "score_data = load_component(path=parent_dir + \"./score.yml\")\n",
    "\n",
    "# 2. Construct pipeline\n",
    "@pipeline(default_compute=\"cpu-cluster\", default_datastore=\"workspaceblobstore\")\n",
    "def nyc_taxi_data_regression(raw_green_data, raw_yellow_data):\n",
    "    \"\"\"NYC taxi data regression example.\"\"\"\n",
    "    prepare_sample_data = prepare_data_component(\n",
    "        raw_green_data=raw_green_data,\n",
    "        raw_yellow_data=raw_yellow_data,\n",
    "    )\n",
    "    transform_sample_data = transform_data(\n",
    "        clean_data=prepare_sample_data.outputs.merged_data\n",
    "    )\n",
    "    train_with_sample_data = train_model(\n",
    "        training_data=transform_sample_data.outputs.transformed_data\n",
    "    )\n",
    "    predict_with_sample_data = predict_result(\n",
    "        model_input=train_with_sample_data.outputs.model_output,\n",
    "        test_data=train_with_sample_data.outputs.test_data,\n",
    "    )\n",
    "    score_with_sample_data = score_data(\n",
    "        predictions=predict_with_sample_data.outputs.predictions,\n",
    "        model=train_with_sample_data.outputs.model_output,\n",
    "    )\n",
    "    return {\n",
    "        \"pipeline_job_prepped_data\": prepare_sample_data.outputs.merged_data,\n",
    "        \"pipeline_job_transformed_data\": transform_sample_data.outputs.transformed_data,\n",
    "        \"pipeline_job_trained_model\": train_with_sample_data.outputs.model_output,\n",
    "        \"pipeline_job_test_data\": train_with_sample_data.outputs.test_data,\n",
    "        \"pipeline_job_predictions\": predict_with_sample_data.outputs.predictions,\n",
    "        \"pipeline_job_score_report\": score_with_sample_data.outputs.score_report,\n",
    "    }\n",
    "\n",
    "\n",
    "pipeline_job = nyc_taxi_data_regression(\n",
    "    Input(type=\"uri_file\", path=parent_dir + \"./data/greenTaxiData.csv\"),\n",
    "    Input(type=\"uri_file\", path=parent_dir + \"./data/yellowTaxiData.csv\"),\n",
    ")\n",
    "# demo how to change pipeline output settings\n",
    "pipeline_job.outputs.pipeline_job_prepped_data.mode = \"rw_mount\""
   ]
  },
  {
   "cell_type": "markdown",
   "metadata": {},
   "source": [
    "## 3. Submit pipeline job"
   ]
  },
  {
   "cell_type": "code",
   "execution_count": 6,
   "metadata": {},
   "outputs": [
    {
     "name": "stderr",
     "output_type": "stream",
     "text": [
      "\u001b[32mUploading prep (0.01 MBs): 100%|██████████████████████████████████████████████████████████████████████████████████████████████████████████████████████████████████████| 7322/7322 [00:01<00:00, 3715.15it/s]\u001b[0m\n",
      "\u001b[39m\n",
      "\n",
      "\u001b[32mUploading transform_src (0.01 MBs): 100%|████████████████████████████████████████████████████████████████████████████████████████████████████████████████████████████| 5378/5378 [00:00<00:00, 12019.79it/s]\u001b[0m\n",
      "\u001b[39m\n",
      "\n"
     ]
    },
    {
     "data": {
      "text/html": [
       "<table style=\"width:100%\"><tr><th>Experiment</th><th>Name</th><th>Type</th><th>Status</th><th>Details Page</th></tr><tr><td>pipeline_samples</td><td>tidy_plow_60hrcbp72b</td><td>pipeline</td><td>Preparing</td><td><a href=\"https://ml.azure.com/runs/tidy_plow_60hrcbp72b?wsid=/subscriptions/3f15b3d0-4a6d-468b-aa61-c8a757b7745a/resourcegroups/quantumhack-aml/workspaces/quantumhack-ws&amp;tid=f9335c03-2a98-453e-a138-7bbcb69a76ba\" target=\"_blank\" rel=\"noopener\">Link to Azure Machine Learning studio</a></td></tr></table>"
      ],
      "text/plain": [
       "PipelineJob({'inputs': {'raw_green_data': <azure.ai.ml.entities._job.pipeline._io.PipelineInput object at 0x7fd6cc74e460>, 'raw_yellow_data': <azure.ai.ml.entities._job.pipeline._io.PipelineInput object at 0x7fd6cc74e490>}, 'outputs': {'pipeline_job_prepped_data': <azure.ai.ml.entities._job.pipeline._io.PipelineOutput object at 0x7fd6cc74e4c0>, 'pipeline_job_transformed_data': <azure.ai.ml.entities._job.pipeline._io.PipelineOutput object at 0x7fd6cc74e4f0>, 'pipeline_job_trained_model': <azure.ai.ml.entities._job.pipeline._io.PipelineOutput object at 0x7fd6cc74e520>, 'pipeline_job_test_data': <azure.ai.ml.entities._job.pipeline._io.PipelineOutput object at 0x7fd6cc74e550>, 'pipeline_job_predictions': <azure.ai.ml.entities._job.pipeline._io.PipelineOutput object at 0x7fd6cc74e580>, 'pipeline_job_score_report': <azure.ai.ml.entities._job.pipeline._io.PipelineOutput object at 0x7fd6cc74e5b0>}, 'component': _PipelineComponent({'components': {}, 'auto_increment_version': False, 'is_anonymous': True, 'name': '07cf9a9e-feed-4de1-8595-e6da1296b1d7', 'description': None, 'tags': {}, 'properties': {}, 'id': None, 'base_path': None, 'creation_context': None, 'serialize': <msrest.serialization.Serializer object at 0x7fd6cc74e130>, 'version': '1', 'latest_version': None, 'schema': None, 'type': 'pipeline_component', 'display_name': 'nyc_taxi_data_regression', 'is_deterministic': True, 'inputs': {'raw_green_data': {'type': 'unknown'}, 'raw_yellow_data': {'type': 'unknown'}}, 'outputs': {'pipeline_job_prepped_data': {'type': 'unknown'}, 'pipeline_job_transformed_data': {'type': 'unknown'}, 'pipeline_job_trained_model': {'type': 'unknown'}, 'pipeline_job_test_data': {'type': 'unknown'}, 'pipeline_job_predictions': {'type': 'unknown'}, 'pipeline_job_score_report': {'type': 'unknown'}}, 'source': <ComponentSource.REST: 'REST'>, 'yaml_str': None, 'other_parameter': {}, 'func': <function [component] nyc_taxi_data_regression at 0x7fd6cbf65280>}), 'type': 'pipeline', 'status': 'Preparing', 'log_files': None, 'name': 'tidy_plow_60hrcbp72b', 'description': None, 'tags': {}, 'properties': {'mlflow.source.git.repoURL': 'https://github.com/deepyaman/azureml-examples', 'mlflow.source.git.branch': 'kedro-based-components', 'mlflow.source.git.commit': '26bd251b6c936b09afda72e82610a176dccff5aa', 'azureml.git.dirty': 'True', 'azureml.runsource': 'azureml.PipelineRun', 'runSource': 'MFE', 'runType': 'HTTP', 'azureml.parameters': '{}', 'azureml.continue_on_step_failure': 'False', 'azureml.pipelineComponent': 'pipelinerun'}, 'id': '/subscriptions/3f15b3d0-4a6d-468b-aa61-c8a757b7745a/resourceGroups/quantumhack-aml/providers/Microsoft.MachineLearningServices/workspaces/quantumhack-ws/jobs/tidy_plow_60hrcbp72b', 'base_path': './', 'creation_context': <azure.ai.ml._restclient.v2022_02_01_preview.models._models_py3.SystemData object at 0x7fd6cc737c70>, 'serialize': <msrest.serialization.Serializer object at 0x7fd6cc74e5e0>, 'display_name': 'nyc_taxi_data_regression', 'experiment_name': 'pipeline_samples', 'compute': 'cpu-cluster', 'services': {'Tracking': <azure.ai.ml._restclient.v2022_02_01_preview.models._models_py3.JobService object at 0x7fd6cc737850>, 'Studio': <azure.ai.ml._restclient.v2022_02_01_preview.models._models_py3.JobService object at 0x7fd6cc737cd0>}, 'jobs': {'prepare_sample_data': {}, 'transform_sample_data': {}, 'train_with_sample_data': {}, 'predict_with_sample_data': {}, 'score_with_sample_data': {}}, 'settings': <azure.ai.ml.entities._job.pipeline.pipeline_job_settings.PipelineJobSettings object at 0x7fd6cc737af0>, 'identity': None, 'schedule': None, 'default_code': None, 'default_environment': None})"
      ]
     },
     "execution_count": 6,
     "metadata": {},
     "output_type": "execute_result"
    }
   ],
   "source": [
    "# submit job to workspace\n",
    "pipeline_job = ml_client.jobs.create_or_update(\n",
    "    pipeline_job, experiment_name=\"pipeline_samples\"\n",
    ")\n",
    "pipeline_job"
   ]
  },
  {
   "cell_type": "code",
   "execution_count": 8,
   "metadata": {},
   "outputs": [
    {
     "name": "stdout",
     "output_type": "stream",
     "text": [
      "name: tidy_plow_60hrcbp72b\n",
      "display_name: nyc_taxi_data_regression\n",
      "type: pipeline\n",
      "inputs:\n",
      "  raw_green_data:\n",
      "    mode: ro_mount\n",
      "    type: uri_file\n",
      "    path: azureml://datastores/workspaceblobstore/paths/LocalUpload/05dc73703267d53fab9a873628538cd2/greenTaxiData.csv\n",
      "  raw_yellow_data:\n",
      "    mode: ro_mount\n",
      "    type: uri_file\n",
      "    path: azureml://datastores/workspaceblobstore/paths/LocalUpload/e6acfe9e7adcc057aff3cbe9ef6cc7df/yellowTaxiData.csv\n",
      "outputs:\n",
      "  pipeline_job_prepped_data:\n",
      "    mode: rw_mount\n",
      "    type: uri_folder\n",
      "  pipeline_job_transformed_data:\n",
      "    mode: rw_mount\n",
      "    type: uri_folder\n",
      "  pipeline_job_trained_model:\n",
      "    mode: rw_mount\n",
      "    type: uri_folder\n",
      "  pipeline_job_test_data:\n",
      "    mode: rw_mount\n",
      "    type: uri_folder\n",
      "  pipeline_job_predictions:\n",
      "    mode: rw_mount\n",
      "    type: uri_folder\n",
      "  pipeline_job_score_report:\n",
      "    mode: rw_mount\n",
      "    type: uri_folder\n",
      "status: Preparing\n",
      "services:\n",
      "  Tracking:\n",
      "    job_service_type: Tracking\n",
      "    endpoint: azureml://australiaeast.api.azureml.ms/mlflow/v1.0/subscriptions/3f15b3d0-4a6d-468b-aa61-c8a757b7745a/resourceGroups/quantumhack-aml/providers/Microsoft.MachineLearningServices/workspaces/quantumhack-ws?\n",
      "  Studio:\n",
      "    job_service_type: Studio\n",
      "    endpoint: https://ml.azure.com/runs/tidy_plow_60hrcbp72b?wsid=/subscriptions/3f15b3d0-4a6d-468b-aa61-c8a757b7745a/resourcegroups/quantumhack-aml/workspaces/quantumhack-ws&tid=f9335c03-2a98-453e-a138-7bbcb69a76ba\n",
      "jobs:\n",
      "  prepare_sample_data:\n",
      "    $schema: '{}'\n",
      "    type: command\n",
      "    inputs:\n",
      "      raw_green_data:\n",
      "        path: ${{parent.inputs.raw_green_data}}\n",
      "      raw_yellow_data:\n",
      "        path: ${{parent.inputs.raw_yellow_data}}\n",
      "    outputs:\n",
      "      merged_data: ${{parent.outputs.pipeline_job_prepped_data}}\n",
      "    command: '{}'\n",
      "    code: '{}'\n",
      "    environment_variables: {}\n",
      "    component: azureml:57bb5703-7c66-b984-acaa-981e453241cc:1\n",
      "  transform_sample_data:\n",
      "    $schema: '{}'\n",
      "    type: command\n",
      "    inputs:\n",
      "      clean_data:\n",
      "        path: ${{parent.jobs.prepare_sample_data.outputs.merged_data}}\n",
      "    outputs:\n",
      "      transformed_data: ${{parent.outputs.pipeline_job_transformed_data}}\n",
      "    command: '{}'\n",
      "    code: '{}'\n",
      "    environment_variables: {}\n",
      "    component: azureml:1833caf5-cf45-55ef-f998-41323695afec:1\n",
      "  train_with_sample_data:\n",
      "    $schema: '{}'\n",
      "    type: command\n",
      "    inputs:\n",
      "      training_data:\n",
      "        path: ${{parent.jobs.transform_sample_data.outputs.transformed_data}}\n",
      "    outputs:\n",
      "      model_output: ${{parent.outputs.pipeline_job_trained_model}}\n",
      "      test_data: ${{parent.outputs.pipeline_job_test_data}}\n",
      "    command: '{}'\n",
      "    code: '{}'\n",
      "    environment_variables: {}\n",
      "    component: azureml:b3457688-cf3d-850d-7509-84ad0eee69c1:1\n",
      "  predict_with_sample_data:\n",
      "    $schema: '{}'\n",
      "    type: command\n",
      "    inputs:\n",
      "      model_input:\n",
      "        path: ${{parent.jobs.train_with_sample_data.outputs.model_output}}\n",
      "      test_data:\n",
      "        path: ${{parent.jobs.train_with_sample_data.outputs.test_data}}\n",
      "    outputs:\n",
      "      predictions: ${{parent.outputs.pipeline_job_predictions}}\n",
      "    command: '{}'\n",
      "    code: '{}'\n",
      "    environment_variables: {}\n",
      "    component: azureml:6cd6fa51-6ee0-43cd-947d-3e83fd20f065:1\n",
      "  score_with_sample_data:\n",
      "    $schema: '{}'\n",
      "    type: command\n",
      "    inputs:\n",
      "      predictions:\n",
      "        path: ${{parent.jobs.predict_with_sample_data.outputs.predictions}}\n",
      "      model:\n",
      "        path: ${{parent.jobs.train_with_sample_data.outputs.model_output}}\n",
      "    outputs:\n",
      "      score_report: ${{parent.outputs.pipeline_job_score_report}}\n",
      "    command: '{}'\n",
      "    code: '{}'\n",
      "    environment_variables: {}\n",
      "    component: azureml:3b344507-7c65-e4be-19ef-ecf212b6075f:1\n",
      "experiment_name: pipeline_samples\n",
      "id: azureml:/subscriptions/3f15b3d0-4a6d-468b-aa61-c8a757b7745a/resourceGroups/quantumhack-aml/providers/Microsoft.MachineLearningServices/workspaces/quantumhack-ws/jobs/tidy_plow_60hrcbp72b\n",
      "creation_context:\n",
      "  created_at: '2022-06-02T23:17:14.028733+00:00'\n",
      "  created_by: Deepyaman Datta\n",
      "  created_by_type: User\n",
      "tags: {}\n",
      "settings:\n",
      "  default_datastore: azureml:workspaceblobstore\n",
      "properties:\n",
      "  mlflow.source.git.repoURL: https://github.com/deepyaman/azureml-examples\n",
      "  mlflow.source.git.branch: kedro-based-components\n",
      "  mlflow.source.git.commit: 26bd251b6c936b09afda72e82610a176dccff5aa\n",
      "  azureml.git.dirty: 'True'\n",
      "  azureml.runsource: azureml.PipelineRun\n",
      "  runSource: MFE\n",
      "  runType: HTTP\n",
      "  azureml.parameters: '{}'\n",
      "  azureml.continue_on_step_failure: 'False'\n",
      "  azureml.pipelineComponent: pipelinerun\n",
      "compute: azureml:cpu-cluster\n",
      "\n"
     ]
    }
   ],
   "source": [
    "print(pipeline_job)"
   ]
  },
  {
   "cell_type": "code",
   "execution_count": 7,
   "metadata": {},
   "outputs": [
    {
     "name": "stdout",
     "output_type": "stream",
     "text": [
      "RunId: tidy_plow_60hrcbp72b\n",
      "Web View: https://ml.azure.com/runs/tidy_plow_60hrcbp72b?wsid=/subscriptions/3f15b3d0-4a6d-468b-aa61-c8a757b7745a/resourcegroups/quantumhack-aml/workspaces/quantumhack-ws\n",
      "\n",
      "Streaming logs/azureml/executionlogs.txt\n",
      "========================================\n",
      "\n",
      "[2022-06-02 23:17:16Z] Submitting 1 runs, first five are: ed8e23d6:d591fc4f-fb1e-40a8-8192-b5bb470e3ced\n",
      "[2022-06-02 23:19:31Z] Completing processing run id d591fc4f-fb1e-40a8-8192-b5bb470e3ced.\n",
      "[2022-06-02 23:19:31Z] Submitting 1 runs, first five are: ca9d0044:441ec010-5e8c-4d3b-9821-270cba753fe1\n",
      "[2022-06-02 23:20:08Z] Completing processing run id 441ec010-5e8c-4d3b-9821-270cba753fe1.\n",
      "[2022-06-02 23:20:09Z] Submitting 1 runs, first five are: 9f0e681f:92fe4ab6-7f68-40d7-b6f3-a4b87c637b9f\n",
      "[2022-06-02 23:20:38Z] Completing processing run id 92fe4ab6-7f68-40d7-b6f3-a4b87c637b9f.\n",
      "[2022-06-02 23:20:38Z] Submitting 1 runs, first five are: d8ef5118:e44e4843-b15a-4058-91d8-f5e9a56a5ea0\n",
      "[2022-06-02 23:20:59Z] Completing processing run id e44e4843-b15a-4058-91d8-f5e9a56a5ea0.\n",
      "[2022-06-02 23:20:59Z] Submitting 1 runs, first five are: 89dcae84:384c9790-4b74-4b5a-bee0-f9e267459da4\n",
      "[2022-06-02 23:21:17Z] Completing processing run id 384c9790-4b74-4b5a-bee0-f9e267459da4.\n",
      "\n",
      "Execution Summary\n",
      "=================\n",
      "RunId: tidy_plow_60hrcbp72b\n",
      "Web View: https://ml.azure.com/runs/tidy_plow_60hrcbp72b?wsid=/subscriptions/3f15b3d0-4a6d-468b-aa61-c8a757b7745a/resourcegroups/quantumhack-aml/workspaces/quantumhack-ws\n",
      "\n"
     ]
    }
   ],
   "source": [
    "# Wait until the job completes\n",
    "ml_client.jobs.stream(pipeline_job.name)"
   ]
  },
  {
   "cell_type": "markdown",
   "metadata": {},
   "source": [
    "# Next Steps\n",
    "You can see further examples of running a pipeline job [here](../)"
   ]
  }
 ],
 "metadata": {
  "description": {
   "description": "Build pipeline with components for 5 jobs - prep data, transform data, train model, predict results and evaluate model performance"
  },
  "interpreter": {
   "hash": "3e9e0e270b75c5e6da2e22113ba4f77b864d68f95da6601809c29e46c73ae6bb"
  },
  "kernelspec": {
   "display_name": "Python 3 (ipykernel)",
   "language": "python",
   "name": "python3"
  },
  "language_info": {
   "codemirror_mode": {
    "name": "ipython",
    "version": 3
   },
   "file_extension": ".py",
   "mimetype": "text/x-python",
   "name": "python",
   "nbconvert_exporter": "python",
   "pygments_lexer": "ipython3",
   "version": "3.8.13"
  }
 },
 "nbformat": 4,
 "nbformat_minor": 2
}
